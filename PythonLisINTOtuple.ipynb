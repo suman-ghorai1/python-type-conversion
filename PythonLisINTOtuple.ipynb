{
 "cells": [
  {
   "cell_type": "code",
   "execution_count": 4,
   "id": "3f0d4efb-835d-41b9-b3ad-01e9e3ea8822",
   "metadata": {},
   "outputs": [
    {
     "name": "stdout",
     "output_type": "stream",
     "text": [
      "mylist =  ['ram', 'suman', 3.0, 5]\n",
      "mytuple =  ('ram', 'suman', 3.0, 5)\n"
     ]
    }
   ],
   "source": [
    "#4 convert List into Tuple\n",
    "mylist=[\"ram\", \"suman\",3.0,5]\n",
    "print (\"mylist = \",mylist)\n",
    "#convert\n",
    "\n",
    "mytuple=tuple(mylist)\n",
    "print(\"mytuple = \",mytuple)\n"
   ]
  },
  {
   "cell_type": "raw",
   "id": "e69eb162-ed13-4eda-b65a-171464e107fd",
   "metadata": {},
   "source": []
  }
 ],
 "metadata": {
  "kernelspec": {
   "display_name": "Python 3 (ipykernel)",
   "language": "python",
   "name": "python3"
  },
  "language_info": {
   "codemirror_mode": {
    "name": "ipython",
    "version": 3
   },
   "file_extension": ".py",
   "mimetype": "text/x-python",
   "name": "python",
   "nbconvert_exporter": "python",
   "pygments_lexer": "ipython3",
   "version": "3.10.8"
  }
 },
 "nbformat": 4,
 "nbformat_minor": 5
}
