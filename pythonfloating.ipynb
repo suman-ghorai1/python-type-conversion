{
 "cells": [
  {
   "cell_type": "code",
   "execution_count": 1,
   "id": "544b37bf-7ee1-4e2a-ba8b-497e8f51f5fe",
   "metadata": {},
   "outputs": [
    {
     "name": "stdout",
     "output_type": "stream",
     "text": [
      "7.0\n"
     ]
    }
   ],
   "source": [
    "#1 Covert a integer to a floating-point number.\n",
    "\n",
    "num =7\n",
    "\n",
    "floating=float(num)\n",
    "\n",
    "print (floating)"
   ]
  },
  {
   "cell_type": "code",
   "execution_count": null,
   "id": "80183338-e33c-40c1-8617-0cba87f1598d",
   "metadata": {},
   "outputs": [],
   "source": []
  }
 ],
 "metadata": {
  "kernelspec": {
   "display_name": "Python 3 (ipykernel)",
   "language": "python",
   "name": "python3"
  },
  "language_info": {
   "codemirror_mode": {
    "name": "ipython",
    "version": 3
   },
   "file_extension": ".py",
   "mimetype": "text/x-python",
   "name": "python",
   "nbconvert_exporter": "python",
   "pygments_lexer": "ipython3",
   "version": "3.10.8"
  }
 },
 "nbformat": 4,
 "nbformat_minor": 5
}
