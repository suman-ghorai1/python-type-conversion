{
 "cells": [
  {
   "cell_type": "code",
   "execution_count": 4,
   "id": "67b2f0c3-9f8b-45a7-8e44-e84c1e3419f1",
   "metadata": {},
   "outputs": [
    {
     "name": "stdout",
     "output_type": "stream",
     "text": [
      "mytuple=  ('suman', 'ghorai', 7.7, 77)\n",
      "mylist=  ['suman', 'ghorai', 7.7, 77]\n"
     ]
    }
   ],
   "source": [
    "#convert tuple to list\n",
    "mytuple =(\"suman\",\"ghorai\",7.7,77)\n",
    "print(\"mytuple= \",mytuple)\n",
    "\n",
    "#convert\n",
    "mylist =list(mytuple)\n",
    "print(\"mylist= \",mylist)"
   ]
  },
  {
   "cell_type": "code",
   "execution_count": null,
   "id": "639c581b-92fc-4473-8488-6a0802019172",
   "metadata": {},
   "outputs": [],
   "source": []
  }
 ],
 "metadata": {
  "kernelspec": {
   "display_name": "Python 3 (ipykernel)",
   "language": "python",
   "name": "python3"
  },
  "language_info": {
   "codemirror_mode": {
    "name": "ipython",
    "version": 3
   },
   "file_extension": ".py",
   "mimetype": "text/x-python",
   "name": "python",
   "nbconvert_exporter": "python",
   "pygments_lexer": "ipython3",
   "version": "3.10.8"
  }
 },
 "nbformat": 4,
 "nbformat_minor": 5
}
